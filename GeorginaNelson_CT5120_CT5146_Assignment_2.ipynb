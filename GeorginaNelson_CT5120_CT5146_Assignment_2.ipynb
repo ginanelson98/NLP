{
  "nbformat": 4,
  "nbformat_minor": 0,
  "metadata": {
    "colab": {
      "name": "Assignment 2.ipynb",
      "provenance": [],
      "collapsed_sections": [
        "iq8sr9x17KhU",
        "DCEJrJ-p_WU1",
        "tYTwrZId_WU_"
      ]
    },
    "kernelspec": {
      "display_name": "Python 3",
      "language": "python",
      "name": "python3"
    }
  },
  "cells": [
    {
      "cell_type": "markdown",
      "metadata": {
        "id": "sC-LZ20S_WUr"
      },
      "source": [
        "# Assignment 2: Information Extraction"
      ]
    },
    {
      "cell_type": "code",
      "metadata": {
        "id": "9xqCFJBv_WUt",
        "colab": {
          "base_uri": "https://localhost:8080/"
        },
        "outputId": "588377a4-6b29-472e-bcfa-2e33452fc267"
      },
      "source": [
        "import nltk\n",
        "import re\n",
        "\n",
        "nltk.download('all')"
      ],
      "execution_count": 1,
      "outputs": [
        {
          "output_type": "stream",
          "text": [
            "[nltk_data] Downloading collection 'all'\n",
            "[nltk_data]    | \n",
            "[nltk_data]    | Downloading package abc to /root/nltk_data...\n",
            "[nltk_data]    |   Package abc is already up-to-date!\n",
            "[nltk_data]    | Downloading package alpino to /root/nltk_data...\n",
            "[nltk_data]    |   Package alpino is already up-to-date!\n",
            "[nltk_data]    | Downloading package biocreative_ppi to\n",
            "[nltk_data]    |     /root/nltk_data...\n",
            "[nltk_data]    |   Package biocreative_ppi is already up-to-date!\n",
            "[nltk_data]    | Downloading package brown to /root/nltk_data...\n",
            "[nltk_data]    |   Package brown is already up-to-date!\n",
            "[nltk_data]    | Downloading package brown_tei to /root/nltk_data...\n",
            "[nltk_data]    |   Package brown_tei is already up-to-date!\n",
            "[nltk_data]    | Downloading package cess_cat to /root/nltk_data...\n",
            "[nltk_data]    |   Package cess_cat is already up-to-date!\n",
            "[nltk_data]    | Downloading package cess_esp to /root/nltk_data...\n",
            "[nltk_data]    |   Package cess_esp is already up-to-date!\n",
            "[nltk_data]    | Downloading package chat80 to /root/nltk_data...\n",
            "[nltk_data]    |   Package chat80 is already up-to-date!\n",
            "[nltk_data]    | Downloading package city_database to\n",
            "[nltk_data]    |     /root/nltk_data...\n",
            "[nltk_data]    |   Package city_database is already up-to-date!\n",
            "[nltk_data]    | Downloading package cmudict to /root/nltk_data...\n",
            "[nltk_data]    |   Package cmudict is already up-to-date!\n",
            "[nltk_data]    | Downloading package comparative_sentences to\n",
            "[nltk_data]    |     /root/nltk_data...\n",
            "[nltk_data]    |   Package comparative_sentences is already up-to-\n",
            "[nltk_data]    |       date!\n",
            "[nltk_data]    | Downloading package comtrans to /root/nltk_data...\n",
            "[nltk_data]    |   Package comtrans is already up-to-date!\n",
            "[nltk_data]    | Downloading package conll2000 to /root/nltk_data...\n",
            "[nltk_data]    |   Package conll2000 is already up-to-date!\n",
            "[nltk_data]    | Downloading package conll2002 to /root/nltk_data...\n",
            "[nltk_data]    |   Package conll2002 is already up-to-date!\n",
            "[nltk_data]    | Downloading package conll2007 to /root/nltk_data...\n",
            "[nltk_data]    |   Package conll2007 is already up-to-date!\n",
            "[nltk_data]    | Downloading package crubadan to /root/nltk_data...\n",
            "[nltk_data]    |   Package crubadan is already up-to-date!\n",
            "[nltk_data]    | Downloading package dependency_treebank to\n",
            "[nltk_data]    |     /root/nltk_data...\n",
            "[nltk_data]    |   Package dependency_treebank is already up-to-date!\n",
            "[nltk_data]    | Downloading package dolch to /root/nltk_data...\n",
            "[nltk_data]    |   Package dolch is already up-to-date!\n",
            "[nltk_data]    | Downloading package europarl_raw to\n",
            "[nltk_data]    |     /root/nltk_data...\n",
            "[nltk_data]    |   Package europarl_raw is already up-to-date!\n",
            "[nltk_data]    | Downloading package floresta to /root/nltk_data...\n",
            "[nltk_data]    |   Package floresta is already up-to-date!\n",
            "[nltk_data]    | Downloading package framenet_v15 to\n",
            "[nltk_data]    |     /root/nltk_data...\n",
            "[nltk_data]    |   Package framenet_v15 is already up-to-date!\n",
            "[nltk_data]    | Downloading package framenet_v17 to\n",
            "[nltk_data]    |     /root/nltk_data...\n",
            "[nltk_data]    |   Package framenet_v17 is already up-to-date!\n",
            "[nltk_data]    | Downloading package gazetteers to /root/nltk_data...\n",
            "[nltk_data]    |   Package gazetteers is already up-to-date!\n",
            "[nltk_data]    | Downloading package genesis to /root/nltk_data...\n",
            "[nltk_data]    |   Package genesis is already up-to-date!\n",
            "[nltk_data]    | Downloading package gutenberg to /root/nltk_data...\n",
            "[nltk_data]    |   Package gutenberg is already up-to-date!\n",
            "[nltk_data]    | Downloading package ieer to /root/nltk_data...\n",
            "[nltk_data]    |   Package ieer is already up-to-date!\n",
            "[nltk_data]    | Downloading package inaugural to /root/nltk_data...\n",
            "[nltk_data]    |   Package inaugural is already up-to-date!\n",
            "[nltk_data]    | Downloading package indian to /root/nltk_data...\n",
            "[nltk_data]    |   Package indian is already up-to-date!\n",
            "[nltk_data]    | Downloading package jeita to /root/nltk_data...\n",
            "[nltk_data]    |   Package jeita is already up-to-date!\n",
            "[nltk_data]    | Downloading package kimmo to /root/nltk_data...\n",
            "[nltk_data]    |   Package kimmo is already up-to-date!\n",
            "[nltk_data]    | Downloading package knbc to /root/nltk_data...\n",
            "[nltk_data]    |   Package knbc is already up-to-date!\n",
            "[nltk_data]    | Downloading package lin_thesaurus to\n",
            "[nltk_data]    |     /root/nltk_data...\n",
            "[nltk_data]    |   Package lin_thesaurus is already up-to-date!\n",
            "[nltk_data]    | Downloading package mac_morpho to /root/nltk_data...\n",
            "[nltk_data]    |   Package mac_morpho is already up-to-date!\n",
            "[nltk_data]    | Downloading package machado to /root/nltk_data...\n",
            "[nltk_data]    |   Package machado is already up-to-date!\n",
            "[nltk_data]    | Downloading package masc_tagged to /root/nltk_data...\n",
            "[nltk_data]    |   Package masc_tagged is already up-to-date!\n",
            "[nltk_data]    | Downloading package moses_sample to\n",
            "[nltk_data]    |     /root/nltk_data...\n",
            "[nltk_data]    |   Package moses_sample is already up-to-date!\n",
            "[nltk_data]    | Downloading package movie_reviews to\n",
            "[nltk_data]    |     /root/nltk_data...\n",
            "[nltk_data]    |   Package movie_reviews is already up-to-date!\n",
            "[nltk_data]    | Downloading package names to /root/nltk_data...\n",
            "[nltk_data]    |   Package names is already up-to-date!\n",
            "[nltk_data]    | Downloading package nombank.1.0 to /root/nltk_data...\n",
            "[nltk_data]    |   Package nombank.1.0 is already up-to-date!\n",
            "[nltk_data]    | Downloading package nps_chat to /root/nltk_data...\n",
            "[nltk_data]    |   Package nps_chat is already up-to-date!\n",
            "[nltk_data]    | Downloading package omw to /root/nltk_data...\n",
            "[nltk_data]    |   Package omw is already up-to-date!\n",
            "[nltk_data]    | Downloading package opinion_lexicon to\n",
            "[nltk_data]    |     /root/nltk_data...\n",
            "[nltk_data]    |   Package opinion_lexicon is already up-to-date!\n",
            "[nltk_data]    | Downloading package paradigms to /root/nltk_data...\n",
            "[nltk_data]    |   Package paradigms is already up-to-date!\n",
            "[nltk_data]    | Downloading package pil to /root/nltk_data...\n",
            "[nltk_data]    |   Package pil is already up-to-date!\n",
            "[nltk_data]    | Downloading package pl196x to /root/nltk_data...\n",
            "[nltk_data]    |   Package pl196x is already up-to-date!\n",
            "[nltk_data]    | Downloading package ppattach to /root/nltk_data...\n",
            "[nltk_data]    |   Package ppattach is already up-to-date!\n",
            "[nltk_data]    | Downloading package problem_reports to\n",
            "[nltk_data]    |     /root/nltk_data...\n",
            "[nltk_data]    |   Package problem_reports is already up-to-date!\n",
            "[nltk_data]    | Downloading package propbank to /root/nltk_data...\n",
            "[nltk_data]    |   Package propbank is already up-to-date!\n",
            "[nltk_data]    | Downloading package ptb to /root/nltk_data...\n",
            "[nltk_data]    |   Package ptb is already up-to-date!\n",
            "[nltk_data]    | Downloading package product_reviews_1 to\n",
            "[nltk_data]    |     /root/nltk_data...\n",
            "[nltk_data]    |   Package product_reviews_1 is already up-to-date!\n",
            "[nltk_data]    | Downloading package product_reviews_2 to\n",
            "[nltk_data]    |     /root/nltk_data...\n",
            "[nltk_data]    |   Package product_reviews_2 is already up-to-date!\n",
            "[nltk_data]    | Downloading package pros_cons to /root/nltk_data...\n",
            "[nltk_data]    |   Package pros_cons is already up-to-date!\n",
            "[nltk_data]    | Downloading package qc to /root/nltk_data...\n",
            "[nltk_data]    |   Package qc is already up-to-date!\n",
            "[nltk_data]    | Downloading package reuters to /root/nltk_data...\n",
            "[nltk_data]    |   Package reuters is already up-to-date!\n",
            "[nltk_data]    | Downloading package rte to /root/nltk_data...\n",
            "[nltk_data]    |   Package rte is already up-to-date!\n",
            "[nltk_data]    | Downloading package semcor to /root/nltk_data...\n",
            "[nltk_data]    |   Package semcor is already up-to-date!\n",
            "[nltk_data]    | Downloading package senseval to /root/nltk_data...\n",
            "[nltk_data]    |   Package senseval is already up-to-date!\n",
            "[nltk_data]    | Downloading package sentiwordnet to\n",
            "[nltk_data]    |     /root/nltk_data...\n",
            "[nltk_data]    |   Package sentiwordnet is already up-to-date!\n",
            "[nltk_data]    | Downloading package sentence_polarity to\n",
            "[nltk_data]    |     /root/nltk_data...\n",
            "[nltk_data]    |   Package sentence_polarity is already up-to-date!\n",
            "[nltk_data]    | Downloading package shakespeare to /root/nltk_data...\n",
            "[nltk_data]    |   Package shakespeare is already up-to-date!\n",
            "[nltk_data]    | Downloading package sinica_treebank to\n",
            "[nltk_data]    |     /root/nltk_data...\n",
            "[nltk_data]    |   Package sinica_treebank is already up-to-date!\n",
            "[nltk_data]    | Downloading package smultron to /root/nltk_data...\n",
            "[nltk_data]    |   Package smultron is already up-to-date!\n",
            "[nltk_data]    | Downloading package state_union to /root/nltk_data...\n",
            "[nltk_data]    |   Package state_union is already up-to-date!\n",
            "[nltk_data]    | Downloading package stopwords to /root/nltk_data...\n",
            "[nltk_data]    |   Package stopwords is already up-to-date!\n",
            "[nltk_data]    | Downloading package subjectivity to\n",
            "[nltk_data]    |     /root/nltk_data...\n",
            "[nltk_data]    |   Package subjectivity is already up-to-date!\n",
            "[nltk_data]    | Downloading package swadesh to /root/nltk_data...\n",
            "[nltk_data]    |   Package swadesh is already up-to-date!\n",
            "[nltk_data]    | Downloading package switchboard to /root/nltk_data...\n",
            "[nltk_data]    |   Package switchboard is already up-to-date!\n",
            "[nltk_data]    | Downloading package timit to /root/nltk_data...\n",
            "[nltk_data]    |   Package timit is already up-to-date!\n",
            "[nltk_data]    | Downloading package toolbox to /root/nltk_data...\n",
            "[nltk_data]    |   Package toolbox is already up-to-date!\n",
            "[nltk_data]    | Downloading package treebank to /root/nltk_data...\n",
            "[nltk_data]    |   Package treebank is already up-to-date!\n",
            "[nltk_data]    | Downloading package twitter_samples to\n",
            "[nltk_data]    |     /root/nltk_data...\n",
            "[nltk_data]    |   Package twitter_samples is already up-to-date!\n",
            "[nltk_data]    | Downloading package udhr to /root/nltk_data...\n",
            "[nltk_data]    |   Package udhr is already up-to-date!\n",
            "[nltk_data]    | Downloading package udhr2 to /root/nltk_data...\n",
            "[nltk_data]    |   Package udhr2 is already up-to-date!\n",
            "[nltk_data]    | Downloading package unicode_samples to\n",
            "[nltk_data]    |     /root/nltk_data...\n",
            "[nltk_data]    |   Package unicode_samples is already up-to-date!\n",
            "[nltk_data]    | Downloading package universal_treebanks_v20 to\n",
            "[nltk_data]    |     /root/nltk_data...\n",
            "[nltk_data]    |   Package universal_treebanks_v20 is already up-to-\n",
            "[nltk_data]    |       date!\n",
            "[nltk_data]    | Downloading package verbnet to /root/nltk_data...\n",
            "[nltk_data]    |   Package verbnet is already up-to-date!\n",
            "[nltk_data]    | Downloading package verbnet3 to /root/nltk_data...\n",
            "[nltk_data]    |   Package verbnet3 is already up-to-date!\n",
            "[nltk_data]    | Downloading package webtext to /root/nltk_data...\n",
            "[nltk_data]    |   Package webtext is already up-to-date!\n",
            "[nltk_data]    | Downloading package wordnet to /root/nltk_data...\n",
            "[nltk_data]    |   Package wordnet is already up-to-date!\n",
            "[nltk_data]    | Downloading package wordnet_ic to /root/nltk_data...\n",
            "[nltk_data]    |   Package wordnet_ic is already up-to-date!\n",
            "[nltk_data]    | Downloading package words to /root/nltk_data...\n",
            "[nltk_data]    |   Package words is already up-to-date!\n",
            "[nltk_data]    | Downloading package ycoe to /root/nltk_data...\n",
            "[nltk_data]    |   Package ycoe is already up-to-date!\n",
            "[nltk_data]    | Downloading package rslp to /root/nltk_data...\n",
            "[nltk_data]    |   Package rslp is already up-to-date!\n",
            "[nltk_data]    | Downloading package maxent_treebank_pos_tagger to\n",
            "[nltk_data]    |     /root/nltk_data...\n",
            "[nltk_data]    |   Package maxent_treebank_pos_tagger is already up-\n",
            "[nltk_data]    |       to-date!\n",
            "[nltk_data]    | Downloading package universal_tagset to\n",
            "[nltk_data]    |     /root/nltk_data...\n",
            "[nltk_data]    |   Package universal_tagset is already up-to-date!\n",
            "[nltk_data]    | Downloading package maxent_ne_chunker to\n",
            "[nltk_data]    |     /root/nltk_data...\n",
            "[nltk_data]    |   Package maxent_ne_chunker is already up-to-date!\n",
            "[nltk_data]    | Downloading package punkt to /root/nltk_data...\n",
            "[nltk_data]    |   Package punkt is already up-to-date!\n",
            "[nltk_data]    | Downloading package book_grammars to\n",
            "[nltk_data]    |     /root/nltk_data...\n",
            "[nltk_data]    |   Package book_grammars is already up-to-date!\n",
            "[nltk_data]    | Downloading package sample_grammars to\n",
            "[nltk_data]    |     /root/nltk_data...\n",
            "[nltk_data]    |   Package sample_grammars is already up-to-date!\n",
            "[nltk_data]    | Downloading package spanish_grammars to\n",
            "[nltk_data]    |     /root/nltk_data...\n",
            "[nltk_data]    |   Package spanish_grammars is already up-to-date!\n",
            "[nltk_data]    | Downloading package basque_grammars to\n",
            "[nltk_data]    |     /root/nltk_data...\n",
            "[nltk_data]    |   Package basque_grammars is already up-to-date!\n",
            "[nltk_data]    | Downloading package large_grammars to\n",
            "[nltk_data]    |     /root/nltk_data...\n",
            "[nltk_data]    |   Package large_grammars is already up-to-date!\n",
            "[nltk_data]    | Downloading package tagsets to /root/nltk_data...\n",
            "[nltk_data]    |   Package tagsets is already up-to-date!\n",
            "[nltk_data]    | Downloading package snowball_data to\n",
            "[nltk_data]    |     /root/nltk_data...\n",
            "[nltk_data]    |   Package snowball_data is already up-to-date!\n",
            "[nltk_data]    | Downloading package bllip_wsj_no_aux to\n",
            "[nltk_data]    |     /root/nltk_data...\n",
            "[nltk_data]    |   Package bllip_wsj_no_aux is already up-to-date!\n",
            "[nltk_data]    | Downloading package word2vec_sample to\n",
            "[nltk_data]    |     /root/nltk_data...\n",
            "[nltk_data]    |   Package word2vec_sample is already up-to-date!\n",
            "[nltk_data]    | Downloading package panlex_swadesh to\n",
            "[nltk_data]    |     /root/nltk_data...\n",
            "[nltk_data]    |   Package panlex_swadesh is already up-to-date!\n",
            "[nltk_data]    | Downloading package mte_teip5 to /root/nltk_data...\n",
            "[nltk_data]    |   Package mte_teip5 is already up-to-date!\n",
            "[nltk_data]    | Downloading package averaged_perceptron_tagger to\n",
            "[nltk_data]    |     /root/nltk_data...\n",
            "[nltk_data]    |   Package averaged_perceptron_tagger is already up-\n",
            "[nltk_data]    |       to-date!\n",
            "[nltk_data]    | Downloading package averaged_perceptron_tagger_ru to\n",
            "[nltk_data]    |     /root/nltk_data...\n",
            "[nltk_data]    |   Package averaged_perceptron_tagger_ru is already\n",
            "[nltk_data]    |       up-to-date!\n",
            "[nltk_data]    | Downloading package perluniprops to\n",
            "[nltk_data]    |     /root/nltk_data...\n",
            "[nltk_data]    |   Package perluniprops is already up-to-date!\n",
            "[nltk_data]    | Downloading package nonbreaking_prefixes to\n",
            "[nltk_data]    |     /root/nltk_data...\n",
            "[nltk_data]    |   Package nonbreaking_prefixes is already up-to-date!\n",
            "[nltk_data]    | Downloading package vader_lexicon to\n",
            "[nltk_data]    |     /root/nltk_data...\n",
            "[nltk_data]    |   Package vader_lexicon is already up-to-date!\n",
            "[nltk_data]    | Downloading package porter_test to /root/nltk_data...\n",
            "[nltk_data]    |   Package porter_test is already up-to-date!\n",
            "[nltk_data]    | Downloading package wmt15_eval to /root/nltk_data...\n",
            "[nltk_data]    |   Package wmt15_eval is already up-to-date!\n",
            "[nltk_data]    | Downloading package mwa_ppdb to /root/nltk_data...\n",
            "[nltk_data]    |   Package mwa_ppdb is already up-to-date!\n",
            "[nltk_data]    | \n",
            "[nltk_data]  Done downloading collection all\n"
          ],
          "name": "stdout"
        },
        {
          "output_type": "execute_result",
          "data": {
            "text/plain": [
              "True"
            ]
          },
          "metadata": {
            "tags": []
          },
          "execution_count": 1
        }
      ]
    },
    {
      "cell_type": "markdown",
      "metadata": {
        "id": "iq8sr9x17KhU"
      },
      "source": [
        "## Task 1: Named Entity Annotation (10 Marks)\n",
        "\n",
        "Using the IOB tagging scheme annotate all of the named entities (PERson, LOCation, ORGanisation, TIME) in the following sentence:\n",
        "\n",
        "*Wayne Rooney is a professional footballer from England who last played for Major League Soccer club D.C. United and will join Derby County in January 2020.*"
      ]
    },
    {
      "cell_type": "markdown",
      "metadata": {
        "id": "htlSW1ad81D-"
      },
      "source": [
        "Edit this cell and write your annotation below the line. (Note that you don't have to write code for this task, you have to annotate it manually)\n",
        "\n",
        "---\n",
        "**B-PER:** Wayne **I-PER:** Rooney **O:**is **O:**a **O:**professional **O:**footballer **O:**from **B-LOC:**England **O:**who **O:**last **O:**played **O:**for **B-ORG:** **O:**Major **I-ORG:**League **I-ORG:**Soccer **O:**club **B-ORG**D.C. **I-ORG:**United **O:**and **O:**will **O:**join **B-ORG:**Derby **I-ORG:**County **O:**in **TIME:**January **TIME:**2020."
      ]
    },
    {
      "cell_type": "markdown",
      "metadata": {
        "id": "LZNmDWxj-V-J"
      },
      "source": [
        "\n",
        "---\n",
        "\n",
        "### For subsequent tasks in this assignment, you will work with the documents in `football_players.txt` to perform various information extraction tasks."
      ]
    },
    {
      "cell_type": "code",
      "metadata": {
        "id": "V9YE4n6u7olU",
        "colab": {
          "base_uri": "https://localhost:8080/"
        },
        "outputId": "60d4f679-a4cc-439c-ba42-aed757f478e9"
      },
      "source": [
        "# Download the text file (uncomment the line below in this cell, if not already downloaded from Blackboard)\n",
        "!curl \"https://ideone.com/plain/OvwDXZ\" > football_players.txt"
      ],
      "execution_count": 2,
      "outputs": [
        {
          "output_type": "stream",
          "text": [
            "  % Total    % Received % Xferd  Average Speed   Time    Time     Time  Current\n",
            "                                 Dload  Upload   Total   Spent    Left  Speed\n",
            "100 24172  100 24172    0     0   8227      0  0:00:02  0:00:02 --:--:--  8227\n"
          ],
          "name": "stdout"
        }
      ]
    },
    {
      "cell_type": "markdown",
      "metadata": {
        "id": "DpSaij2b73Vj"
      },
      "source": [
        " Read all the documents from `football_players.txt` into a list called `docs`."
      ]
    },
    {
      "cell_type": "code",
      "metadata": {
        "id": "qteh89cs7q4x",
        "colab": {
          "base_uri": "https://localhost:8080/"
        },
        "outputId": "8d795699-ebbb-49a4-be12-340226cd8e72"
      },
      "source": [
        "docs = []\n",
        "# your code goes here\n",
        "docs = open('football_players.txt', encoding = 'utf8').readlines()\n",
        "docs = [doc.strip() for doc in docs]\n",
        "docs\n"
      ],
      "execution_count": 3,
      "outputs": [
        {
          "output_type": "execute_result",
          "data": {
            "text/plain": [
              "[\"Cristiano Ronaldo dos Santos Aveiro, ComM, GOIH (Portuguese pronunciation: [kɾiʃ'tjɐnu ʁuˈnaɫdu], born 5 February 1985) is a Portuguese professional footballer who plays for Spanish club Real Madrid and the Portugal national team. He is a forward and serves as captain for Portugal. In 2008, he won his first Ballon d'Or and FIFA World Player of the Year awards. He then won the FIFA Ballon d'Or in 2013 and 2014. In 2015, Ronaldo scored his 500th senior career goal for club and country. Often ranked as the best player in the world, Ronaldo was named the best Portuguese player of all time by the Portuguese Football Federation, during its 100th anniversary celebrations in 2015. He is the only player to win four European Golden Shoe awards. One of the most marketable athletes in sport, in 2016 Forbes named Ronaldo the world's best paid athlete. In June 2016, ESPN ranked him the world's most famous athlete. Ronaldo began his club career playing for Sporting CP, before signing with Manchester United at age 18 in 2003. After winning his first trophy, the FA Cup, during his first season in England, he helped United win three successive Premier League titles, a UEFA Champions League title, and a FIFA Club World Cup. By age 23, he had received Ballon d'Or and FIFA World Player of the Year nominations. He was the subject of the most expensive association football transfer when he moved from Manchester United to Real Madrid in 2009 in a transfer worth €94 million ($132 million). In Spain, he has since won one La Liga title, two Copas del Rey, two Champions League titles, and a Club World Cup. Ronaldo holds the record for most goals scored in a single UEFA Champions League season, having scored 17 goals in the 2013–14 season. In 2014, Ronaldo became the fastest player to score 200 goals in La Liga, which he accomplished in his 178th La Liga game. He is the only player in the history of football to score 50 or more goals in a season on six consecutive occasions. In 2015, Ronaldo became the all-time top goalscorer in the UEFA Champions League, and he also became Real Madrid's all-time leading goalscorer. He is the second highest goalscorer in La Liga history behind Lionel Messi, his perceived career rival. Ronaldo made his international debut for Portugal in August 2003, at the age of 18. He is Portugal's most capped player of all time with over 130 caps, and has participated in seven major tournaments: four UEFA European Championships (2004, 2008, 2012 and 2016) and three FIFA World Cups (2006, 2010 and 2014). He is the first Portuguese player to reach 50 international goals, making him Portugal's all-time top goalscorer. He scored his first international goal in Euro 2004 and helped Portugal reach the final. He took over captaincy in July 2008, and he led Portugal to the semi-finals at Euro 2012, finishing the competition as joint-top scorer. In November 2014, Ronaldo became the all-time top scorer in the UEFA European Championship (including qualifying) with 23 goals. At Euro 2016, he became the most capped player of all-time in the tournament, the first player to score at four consecutive European Championship finals, and also equalled Michel Platini's all-time record for most goals scored in the competition. Ronaldo lifted the trophy after Portugal defeated France in the final, and he received the Silver Boot as one of the second-highest goalscorers of the tournament.\",\n",
              " 'Lionel Andrés \"Leo\" Messi (Spanish pronunciation: [ljoˈnel anˈdɾes ˈmesi] ; born 24 June 1987) is an Argentine professional footballer who plays as a forward for Spanish club FC Barcelona and the Argentina national team. Often considered the best player in the world and rated by many in the sport as the greatest of all time, Messi is the only football player in history to win five FIFA Ballons d\\'Or, four of which he won consecutively, and the first player to win three European Golden Shoes. With Barcelona he has won eight La Liga titles and four UEFA Champions League titles, as well as four Copas del Rey. Both a prolific goalscorer and a creative playmaker, Messi holds the records for most goals scored in La Liga, a La Liga season (50), a football season (82), and a calendar year (91), as well as those for most assists made in La Liga and the Copa América. He has scored over 500 senior career goals for club and country. Born and raised in central Argentina, Messi was diagnosed with a growth hormone deficiency as a child. At age 13, he relocated to Spain to join Barcelona, who agreed to pay for his medical treatment. After a fast progression through Barcelona\\'s youth academy, Messi made his competitive debut aged 17 in October 2004. Despite being injury-prone during his early career, he established himself as an integral player for the club within the next three years, finishing 2007 as a finalist for both the Ballon d\\'Or and FIFA World Player of the Year award, a feat he repeated the following year. His first uninterrupted campaign came in the 2008–09 season, during which he helped Barcelona achieve the first treble in Spanish football. At 22 years old, Messi won the Ballon d\\'Or and FIFA World Player of the Year award by record voting margins. Three successful seasons followed, with Messi winning three consecutive FIFA Ballons d\\'Or, including an unprecedented fourth. His personal best campaign to date was the 2011–12 season, in which he set the La Liga and European records for most goals scored in a single season, while establishing himself as Barcelona\\'s all-time top scorer in official competitions in March 2012. He again struggled with injury during the following two seasons, twice finishing second for the Ballon d\\'Or behind Cristiano Ronaldo, his perceived career rival. Messi regained his best form during the 2014–15 campaign, breaking the all-time goalscoring records in both La Liga and the Champions League in November 2014, and led Barcelona to a historic second treble. He is currently the second best goalscorer in the history of the European Cup/Champions League. An Argentine international, Messi is his country\\'s all-time leading goalscorer. At youth level, he won the 2005 FIFA World Youth Championship, finishing the tournament with both the Golden Ball and Golden Shoe, and an Olympic gold medal at the 2008 Summer Olympics. His style of play as a diminutive, left-footed dribbler drew comparisons with compatriot Diego Maradona, who declared the teenager his successor. After making his senior debut in August 2005, Messi became the youngest Argentine to play and score in a FIFA World Cup during the 2006 edition, and reached the final of the 2007 Copa América, where he was named young player of the tournament. As the squad\\'s captain from August 2011, he led Argentina to three consecutive finals of the 2014 World Cup, for which he won the Golden Ball, and the 2015 and 2016 Copas América. He was convicted of tax fraud committed from 2007 to 2009, for which he received a fine and a suspended prison sentence.',\n",
              " \"Neymar da Silva Santos Júnior (Portuguese pronunciation: [nejˈmaʁ dɐ ˈsiwvɐ ˈsɐ̃tus ˈʒũɲoʁ]; born 5 February 1992), commonly known as Neymar or Neymar Jr., is a Brazilian professional footballer who plays as a forward for Spanish club FC Barcelona and the Brazil national team. Neymar came into prominence at an early age at Santos, where he made his professional debut aged 17. He helped the club win two successive Campeonato Paulista championships, a Copa do Brasil, and the 2011 Copa Libertadores, Santos' first continental title since 1963. Neymar was twice named the South American Footballer of the Year, in 2011 and 2012, before relocating to Europe to join Barcelona. As part of Barça's attacking trio with Lionel Messi and Luis Suárez, he won the continental treble of La Liga, the Copa del Rey, and the UEFA Champions League in the 2014–15 season, followed the next year by the domestic double. He came third for the FIFA Ballon d'Or in 2015. With 49 goals in 73 matches for Brazil since debuting at age 18, Neymar is the fourth-highest goalscorer for his national team. He was a key player in Brazil's victories at the 2011 South American Youth Championship, which he finished as the leading goalscorer, and the 2013 FIFA Confederations Cup, where he won the Golden Ball as player of the tournament. His participation in the 2014 FIFA World Cup and 2015 Copa América was cut short by injury and a suspension respectively, but the next year he captained Brazil to their first Olympic gold medal in men's football at the 2016 Summer Olympics. Known for his dribbling, finishing, and ability with both feet, Neymar has earned comparisons to former Brazil and Santos forward Pelé. Off the pitch, he ranks among the world's most prominent sportsmen; SportsPro named him the most marketable athlete in the world in 2012 and 2013, and ESPN cited him as the world's fourth-most famous athlete in 2016.\",\n",
              " 'Ronaldo de Assis Moreira (born 21 March 1980), commonly known as Ronaldinho (Brazilian Portuguese: [ʁonawˈdʒĩɲu]) or Ronaldinho Gaúcho, is a Brazilian professional footballer and current club ambassador for Spanish club FC Barcelona after signing for them in September 2016. His main playing position is as an attacking midfielder or forward. He won the FIFA World Player of the Year award in 2004 and 2005. Renowned for his technique, tricks, dribbling, overhead kicks, no-look passes and free kicks, Ronaldinho is regarded to be one of the best players of his generation. \"Ronaldinho\", the diminutive and term of endearment for \"Ronaldo\", is accompanied in Brazilian usage by the nickname \"Gaúcho\" (since he hails from southern Brazil), in order to distinguish him from fellow footballer and countryman Ronaldo, who was known as \"Ronaldinho\" in Brazil beforehand. Ronaldo went by his first name upon his move to Europe, thereby allowing Ronaldinho to drop the \"Gaúcho\" and go by the name Ronaldinho abroad. Ronaldinho has played 97 matches and scored 33 goals for the Brazil national team. He was an integral part of the 2002 FIFA World Cup-winning team in Korea and Japan, starring alongside Ronaldo and Rivaldo in an attacking trio, and was named in the FIFA World Cup All-Star Team. At club level, Ronaldinho played first for the Brazilian club Grêmio before spending the bulk of his career with European clubs Paris Saint-Germain, Barcelona and Milan. He then returned to Brazil to play for Flamengo and Atlético Mineiro before moving to Mexico to play for Querétaro. With Barcelona, he won La Liga twice, the UEFA Champions League in 2006 and accumulated numerous individual awards, including the FIFA World Player of the Year in 2004 and 2005 and the Ballon d\\'Or in 2005. Ronaldinho was named in the FIFA 100, a list of the world\\'s greatest living players compiled by Pelé, and to the FIFPro World XI from 2005–2007.',\n",
              " \"Wayne Mark Rooney (/ˈruːni/; born 24 October 1985) is an English professional footballer who plays for and captains both Manchester United and the England national team. He has played much of his career as a forward, but he has also been used in various midfield roles. Aged nine, Rooney joined the youth team of Everton, for whom he made his professional debut in 2002 at the age of 16. He spent two seasons at the Merseyside club, before moving to Manchester United for £25.6 million in the 2004 summer transfer window. Since then, with Rooney in the team, United have won the Premier League five times, the UEFA Champions League once, the FIFA Club World Cup once, the FA Community Shield four times, the Football League Cup twice and the FA Cup once. In September 2013, Rooney scored his 200th goal for Manchester United. He is currently on 246 goals, making him the club's second top goalscorer of all time. His 194 Premier League goals make him the competition's second top scorer of all time, and he holds the record for most goals for one club in the Premier League, with 179 for Manchester United. Rooney made his senior international debut in February 2003 aged 17, becoming the youngest player to represent England (a record since broken by Theo Walcott) and he is England's youngest ever goalscorer. He played at UEFA Euro 2004 and scored four goals, briefly becoming the youngest goalscorer in the history of the European Championship. Rooney has since featured at the 2006, 2010 and 2014 World Cups and is widely regarded as his country's best player. He has won the England Player of the Year award four times, in 2008, 2009, 2014 and 2015. With 53 goals in 118 international caps, Rooney is England's all-time record goalscorer and second most-capped player. Along with David Beckham, Rooney is the most red carded player for England, having been sent off twice. In 2009–10, Rooney was awarded the PFA Players' Player of the Year and the FWA Footballer of the Year. He has won the Premier League Player of the Month award five times, a record only bettered by Steven Gerrard. He came fifth in the vote for the 2011 FIFA Ballon d'Or and was named in the FIFPro World 11 for 2011. Rooney has won the Goal of the Season award by the BBC's Match of the Day poll on three occasions, with his bicycle kick against rivals Manchester City winning the Premier League Goal of the 20 Seasons award.\",\n",
              " \"Zlatan Ibrahimović (Swedish pronunciation: [ˈslaːtan ɪbraˈhiːmɔvɪtɕ] , Bosnian: [zlǎtan ibraxǐːmoʋitɕ] ; born 3 October 1981) is a Swedish professional footballer who plays as a striker for Manchester United. He was also a member of the Sweden national team, making his senior international debut in 2001 and serving as captain from 2010 until he retired from international football in 2016. Ibrahimović began his career at Malmö FF in the late 1990s before being signed by Ajax, where he made a name for himself. He signed for Juventus and excelled in Serie A in a strike partnership with David Trezeguet. In 2006, he signed for rival side Inter Milan and was named to the UEFA Team of the Year in both 2007 and 2009. In addition, Ibrahimović would finish as the league's top scorer in 2008–09 and win three straight Scudetti. In the summer of 2009, he transferred to Barcelona, before moving back to Serie A football the following season, joining A.C. Milan in a deal that made him one of the highest-paid players in the world. He won another Scudetto with Milan in the 2010–2011 season. He joined Paris Saint-Germain in July 2012. During his four-season stay at PSG, Ibrahimović won four consecutive Ligue 1 titles, three Coupes de la Ligue, two Coupes de France and was the top scorer in Ligue 1 for three seasons. In October 2015, he became PSG's all time leading goalscorer. He finished his PSG career with 156 goals in 180 competitive matches. Ibrahimović is one of ten players to have made 100 or more appearances for the Swedish national team. He is the country's all-time leading goalscorer with 62 goals. He represented Sweden at the 2002 and 2006 FIFA World Cups, as well as the 2004, 2008, 2012, and 2016 UEFA European Championships. He has been awarded Guldbollen (the Golden Ball), given to the Swedish player of the year, a record ten times, including nine consecutive times from 2007 and 2015. With his playing style and acrobatic finishing compared to Dutch retired striker Marco van Basten, Ibrahimović is widely regarded as one of the best strikers in the game and one of the best footballers of his generation. His spectacular bicycle kick for Sweden against England won the 2013 FIFA Puskás Award for Goal of the Year. Off the field, he is known for his brash persona and outspoken comments, in addition to referring to himself in the third person. In December 2013, Ibrahimović was ranked by The Guardian as the third-best player in the world, behind only Lionel Messi and Cristiano Ronaldo. In December 2014, the Swedish newspaper Dagens Nyheter named him the second-greatest Swedish sportsperson of all time, after tennis player Björn Borg.\",\n",
              " \"David Robert Joseph Beckham, OBE (/ˈbɛkəm/; born 2 May 1975) is an English former professional footballer. He played for Manchester United, Preston North End, Real Madrid, Milan, LA Galaxy, Paris Saint-Germain, and the England national team for which he held the appearance record for an outfield player until 2016 when Wayne Rooney surpassed his total. He is the first English player to win league titles in four countries: England, Spain, the United States and France. He announced his retirement in May 2013 after a 20-year career, during which he won 19 major trophies. Known for his range of passing, crossing ability and bending free-kicks as a right winger, Beckham was twice runner-up for FIFA World Player of the Year and in 2004 he was named in the FIFA 100 list of the world's greatest living players. Beckham's professional club career began with Manchester United, where he made his first-team debut in 1992 aged 17. With United, he won the Premier League title six times, the FA Cup twice, and the UEFA Champions League in 1999. He then played four seasons with Real Madrid, winning the La Liga championship in his final season with the club. In July 2007 Beckham signed a five-year contract with Major League Soccer club LA Galaxy. While a Galaxy player, he spent two loan spells in Italy with Milan in 2009 and 2010. He was the first British footballer to play 100 UEFA Champions League games. In international football, Beckham made his England debut on 1 September 1996 at the age of 21. He was captain for six years, earning 58 caps during his tenure. He made 115 career appearances in total, appearing at three FIFA World Cup tournaments, the 1998, 2002 and 2006 editions and two UEFA European Championship tournaments, the 2000 and 2004 editions. One of the most marketable athletes in sport, Beckham has consistently ranked among the highest earners in football, and in 2013 he was listed as the highest-paid player in the world, earning over $50 million in the previous 12 months. He has been married to Victoria Beckham since 1999 and they have four children. He has been a UNICEF UK ambassador since 2005, and in 2015 he launched 7: The David Beckham UNICEF Fund to help protect children in danger around the world. In February 2014, MLS announced Beckham and a group of investors would own an expansion team in Miami, which would begin in 2016 or 2017.\",\n",
              " \"Mesut Özil (German pronunciation: [ˈmeːzut ˈøːzil], Turkish: [meˈsut ˈøzil]; born 15 October 1988) is a German footballer who plays for English club Arsenal and the German national team. Özil has been a youth national team member since 2006, and a member of the German national team since 2009. He gained international attention during the 2010 FIFA World Cup and was nominated for the Golden Ball Award, which is awarded to the tournament's best player. Özil started his senior career at hometown club Schalke in the Bundesliga in 2006, transferred to Werder Bremen in 2008 and was signed by Real Madrid in August 2010 following his break-out performance at the FIFA World Cup with Germany. On transfer deadline day of summer 2013 he moved to Arsenal for a fee of £42.5 million, a record for the club and the highest fee ever paid for a German player. Özil is acclaimed for his finesse and improvisation as an attacking midfielder. His style and ability for providing assists for his team-mates has been compared by former manager José Mourinho to that of Real Madrid legend Zinedine Zidane. In 2010–11, Özil ranked first in assists in major European and domestic competitions with 25. In 2011–12, he ranked first in assists in La Liga with 17. Özil was the joint-highest assist provider at both the 2010 FIFA World Cup and UEFA Euro 2012, registering three at each tournament.\",\n",
              " 'Gareth Frank Bale (born 16 July 1989) is a Welsh professional footballer who plays as a winger for Spanish club Real Madrid and the Wales national team. Renowned for his ball striking from distance, swerving free kicks, and his ability to get past defenders with pace, Bale has received plaudits from his peers, who have described him as a footballer with \"tremendous speed, great crossing ability, a great left foot and exceptional physical qualities\". He began his professional career at Southampton, playing at left-back and earning acclaim as a free kick specialist. Bale moved to Tottenham Hotspur in 2007, for an eventual £7 million fee. During his time at Tottenham, managerial and tactical shifts saw him transform into a more attacking player. From the 2009–10 season, under the guidance of Harry Redknapp, Bale became an integral part of the team, rising to international attention during the 2010–11 UEFA Champions League. In 2011 and 2013 he was named PFA Players\\' Player of the Year, and was named in the UEFA Team of the Year. In 2013 he was also named PFA Young Player of the Year and the FWA Footballer of the Year. On 1 September 2013, Bale was transferred to Real Madrid for an undisclosed fee. Press at the time reported the transfer value at figures between €91 million and €100 million. In January 2016, documents pertaining to the transfer were leaked which confirmed a then-world record transfer fee of €100.8 million, eclipsing the previous record fee of £80 million (€94 million) for Cristiano Ronaldo in 2009. Bale played an integral role in his first season at Real Madrid, helping the club to win the 2013–14 Copa del Rey and UEFA Champions League, scoring in both finals. The following season he won the UEFA Super Cup and scored in a third major final to help the club win the FIFA Club World Cup. Two years later, he was a key player in another Champions League run, winning the 2015–16 title and being elected to the UEFA Squad of the Season. In 2016, ESPN ranked Bale twelfth on its list of the world\\'s most famous athletes. Bale made his senior international debut for Wales in May 2006, becoming the youngest player at that point to represent the nation. He has since earned over 60 caps and scored 25 international goals, making him Wales\\' second-highest scorer of all time behind Ian Rush. He was the top goalscorer for Wales in their successful qualifying campaign for UEFA Euro 2016, scoring seven goals; he subsequently represented his nation in the final tournament as they reached the semi-finals.',\n",
              " \"Andrés Iniesta Luján (Spanish pronunciation: [anˈdɾes iˈnjesta luˈxan]; born 11 May 1984) is a Spanish professional footballer who plays as a central midfielder for FC Barcelona and the Spain national team. He serves as the captain for Barcelona. Iniesta came through La Masia, the Barcelona youth academy, after an early emigration from his birthplace, and impressed from an early age. He made his first-team debut aged 18 in 2002. He began playing regularly during the 2004–05 season and has remained in the team ever since. Iniesta was an integral part of the Barcelona sides that won two historic trebles in 2009 and 2015, and his 32 trophies make him the most decorated Spanish footballer of all time. Iniesta played for Spain at the Under-16, Under-19 and Under-21 levels before making his international debut in 2006. He helped Spain win Euro 2008, playing every game and being selected in the Team of the Tournament. Iniesta was also a key member of the victorious Spanish team at the 2010 World Cup; he scored the winning goal in the final against the Netherlands, for which he was named the Man of the Match, and was selected to the tournament's All-Star Team. At Euro 2012, Iniesta steered Spain to their second consecutive continental crown, again being chosen as the Man of the Match of the final against Italy, and was named the Player of the Tournament. Iniesta is considered to be one of the best players of his generation and one of the greatest midfielders of all time. Since 2009, he has been chosen in the UEFA Team of the Year five times and has been voted into the FIFA World XI on seven occasions. Iniesta won the UEFA Best Player in Europe award in 2012 and was named the IFFHS World's Best Playmaker in 2012 and 2013. He was runner-up to Lionel Messi for the 2010 FIFA Ballon d'Or and achieved third place in 2012.\"]"
            ]
          },
          "metadata": {
            "tags": []
          },
          "execution_count": 3
        }
      ]
    },
    {
      "cell_type": "markdown",
      "metadata": {
        "id": "DCEJrJ-p_WU1"
      },
      "source": [
        "## Task 2 (10 Marks)\n",
        "Write a function that takes a document and returns a list of sentences with part-of-speech tags.\n",
        "\n",
        "Please keep in mind that the expected output is a list within a list as shown below.\n"
      ]
    },
    {
      "cell_type": "markdown",
      "metadata": {
        "id": "NO7Fyfq7DYxW"
      },
      "source": [
        "Hint: For this task you need to perform three steps:\n",
        "1. Sentence Segmentation\n",
        "1. Word Tokenization\n",
        "1. Part-of-Speech Tagging"
      ]
    },
    {
      "cell_type": "code",
      "metadata": {
        "id": "U3MCJIcR_WU2"
      },
      "source": [
        "def ie_preprocess(document):\n",
        "  # your code goes here\n",
        "  # 1. sentence segmentation\n",
        "  sentences = nltk.sent_tokenize(document)\n",
        "  # 2. word tokenization\n",
        "  tokens = [nltk.word_tokenize(sentence.strip()) for sentence in sentences]\n",
        "  # 3. POS tagging\n",
        "  pos_tagged = [nltk.pos_tag(token) for token in tokens]\n",
        "  return pos_tagged"
      ],
      "execution_count": 4,
      "outputs": []
    },
    {
      "cell_type": "markdown",
      "metadata": {
        "id": "-E04CUNb_WU6"
      },
      "source": [
        "Run the cell below to verify your result for the second sentence in the first document.\n",
        "Expected output: \n",
        "`[('He', 'PRP'), ('is', 'VBZ'), ('a', 'DT'), ('forward', 'NN'), ('and', 'CC'), ('serves', 'NNS'), ('as', 'IN'), ('captain', 'NN'), ('for', 'IN'), ('Portugal', 'NNP'), ('.', '.')]`"
      ]
    },
    {
      "cell_type": "code",
      "metadata": {
        "id": "R30taRgf_WU6",
        "colab": {
          "base_uri": "https://localhost:8080/"
        },
        "outputId": "d6c94f3b-09f2-4740-8cf0-ad3dc2cf16f2"
      },
      "source": [
        "first_doc = docs[0]\n",
        "tagged_sentences = ie_preprocess(first_doc)\n",
        "tagged_sentences[1]"
      ],
      "execution_count": 5,
      "outputs": [
        {
          "output_type": "execute_result",
          "data": {
            "text/plain": [
              "[('He', 'PRP'),\n",
              " ('is', 'VBZ'),\n",
              " ('a', 'DT'),\n",
              " ('forward', 'NN'),\n",
              " ('and', 'CC'),\n",
              " ('serves', 'NNS'),\n",
              " ('as', 'IN'),\n",
              " ('captain', 'NN'),\n",
              " ('for', 'IN'),\n",
              " ('Portugal', 'NNP'),\n",
              " ('.', '.')]"
            ]
          },
          "metadata": {
            "tags": []
          },
          "execution_count": 5
        }
      ]
    },
    {
      "cell_type": "markdown",
      "metadata": {
        "id": "tYTwrZId_WU_"
      },
      "source": [
        "## Task 3 (20 Marks)\n",
        "Write a function that takes a list of tokens with POS tags for a sentence and returns a list of named entities (NE). \n",
        "\n",
        "Hint: Use `binary = True` while calling NE chunk function"
      ]
    },
    {
      "cell_type": "code",
      "metadata": {
        "id": "5fC0iqJJ_WU_"
      },
      "source": [
        "def find_named_entities(sent):\n",
        "  named_entities = []\n",
        "  # your code goes here\n",
        "  tree = nltk.ne_chunk(sent, binary=True)\n",
        "  for subtree in tree.subtrees():\n",
        "    if subtree.label() == 'NE':\n",
        "      entity = \"\"\n",
        "      for leaf in subtree.leaves():\n",
        "        entity = entity + leaf[0] + \" \"\n",
        "      named_entities.append(entity.strip()) \n",
        "  return named_entities"
      ],
      "execution_count": 6,
      "outputs": []
    },
    {
      "cell_type": "markdown",
      "metadata": {
        "id": "Td5yJ8cgFScx"
      },
      "source": [
        "Run the cell below to verify your result for the first sentence in the first document.\n",
        "Expected output: `['Cristiano Ronaldo', 'Santos Aveiro', 'ComM', 'GOIH', 'Portuguese', 'Portuguese', 'Spanish', 'Real Madrid', 'Portugal']`"
      ]
    },
    {
      "cell_type": "code",
      "metadata": {
        "id": "FijjdAPWFsp2",
        "colab": {
          "base_uri": "https://localhost:8080/"
        },
        "outputId": "d585920a-e54d-4f3b-eb01-0240c73b8876"
      },
      "source": [
        "tagged_sentences = ie_preprocess(docs[0])\n",
        "find_named_entities(tagged_sentences[0])"
      ],
      "execution_count": 7,
      "outputs": [
        {
          "output_type": "execute_result",
          "data": {
            "text/plain": [
              "['Cristiano Ronaldo',\n",
              " 'Santos Aveiro',\n",
              " 'ComM',\n",
              " 'GOIH',\n",
              " 'Portuguese',\n",
              " 'Portuguese',\n",
              " 'Spanish',\n",
              " 'Real Madrid',\n",
              " 'Portugal']"
            ]
          },
          "metadata": {
            "tags": []
          },
          "execution_count": 7
        }
      ]
    },
    {
      "cell_type": "markdown",
      "metadata": {
        "id": "XHMp7xtK_WVE"
      },
      "source": [
        "## Task 4 (5 Marks)\n",
        "\n",
        "Implement the `find_all_named_entities` function below to find **all** NEs in a given document.\n",
        "\n",
        "Hint: Use `find_named_entities` implemented above for this task."
      ]
    },
    {
      "cell_type": "code",
      "metadata": {
        "id": "TwFlzQx4_WVF"
      },
      "source": [
        "def find_all_named_entities(doc):\n",
        "  named_entities = []\n",
        "  # your code goes here\n",
        "  pos_tagged = ie_preprocess(doc)\n",
        "  # find named entitities in each sentence and append to named entities\n",
        "  for sent in pos_tagged:\n",
        "    NEs = find_named_entities(sent)\n",
        "    named_entities.extend(NEs)\n",
        "  return named_entities   # return a flat list and not a list of lists"
      ],
      "execution_count": 8,
      "outputs": []
    },
    {
      "cell_type": "markdown",
      "metadata": {
        "id": "bdM0-LZlJy4u"
      },
      "source": [
        "How many named entities did you find in the first document?"
      ]
    },
    {
      "cell_type": "code",
      "metadata": {
        "id": "_ajmnnOqJ8V6",
        "colab": {
          "base_uri": "https://localhost:8080/"
        },
        "outputId": "4ffd73d4-74a2-4618-f84f-c21d2bd396b0"
      },
      "source": [
        "# your code goes here\n",
        "NEs = find_all_named_entities(docs[0])\n",
        "len(NEs)"
      ],
      "execution_count": 9,
      "outputs": [
        {
          "output_type": "execute_result",
          "data": {
            "text/plain": [
              "56"
            ]
          },
          "metadata": {
            "tags": []
          },
          "execution_count": 9
        }
      ]
    },
    {
      "cell_type": "markdown",
      "metadata": {
        "id": "x2AzD9MVNIx2"
      },
      "source": [
        "## Task 5 (5 Marks)\n",
        "\n",
        "Find named entities across **all** documents in `football_players.txt`, and save the result into a single flat list."
      ]
    },
    {
      "cell_type": "code",
      "metadata": {
        "id": "YULMcK1-NSR9"
      },
      "source": [
        "all_named_entities = []\n",
        "# your code goes here\n",
        "# iterate over documents, find named entitites in each, add to flat list\n",
        "for doc in docs:\n",
        "  NEs = find_all_named_entities(doc)\n",
        "  all_named_entities.extend(NEs)"
      ],
      "execution_count": 10,
      "outputs": []
    },
    {
      "cell_type": "markdown",
      "metadata": {
        "id": "QaM9Cs9zNGM2"
      },
      "source": [
        "How many named entities did you find across all documents?"
      ]
    },
    {
      "cell_type": "code",
      "metadata": {
        "id": "jCNIrC_SNpHQ",
        "colab": {
          "base_uri": "https://localhost:8080/"
        },
        "outputId": "bca16547-4e6c-4ed5-fd56-f831007ced7a"
      },
      "source": [
        "# your code goes here\n",
        "len(all_named_entities)"
      ],
      "execution_count": 11,
      "outputs": [
        {
          "output_type": "execute_result",
          "data": {
            "text/plain": [
              "380"
            ]
          },
          "metadata": {
            "tags": []
          },
          "execution_count": 11
        }
      ]
    },
    {
      "cell_type": "markdown",
      "metadata": {
        "id": "l7-ma9lJ_WVJ"
      },
      "source": [
        "## Task 6 (40 Marks)\n",
        "\n",
        "Write functions to extract the name of the player, country of origin and date of birth as well as the following relations: team(s) of the player and position(s) of the player.\n",
        "\n",
        "Hint: Use the `re.compile()` function to create the extraction patterns.\n",
        "\n",
        "Reference: https://docs.python.org/3/howto/regex.html"
      ]
    },
    {
      "cell_type": "code",
      "metadata": {
        "id": "tbaFyiah_WVK"
      },
      "source": [
        "def name_of_the_player(doc):\n",
        "  # your code goes here\n",
        "  # capitalized name words seen near start of doc\n",
        "  name_pattern = re.compile(r'[A-Z][a-z]+.*?[,\\(]')\n",
        "  name = name_pattern.findall(doc)[0][:-1]\n",
        "  return name\n",
        "\n",
        "def country_of_origin(doc):\n",
        "  # your code goes here\n",
        "  # Capitalized word follwed by national\n",
        "  country_pattern = re.compile(r'[A-Z][a-z]* national ')\n",
        "  country = country_pattern.findall(doc)[0].split()[0]\n",
        "  return country\n",
        "\n",
        "def date_of_birth(doc):\n",
        "  # your code goes here\n",
        "  # at least one digit (day/date) followed by Capitalized word (month) folloed by 4 digits(year)\n",
        "  dob_pattern = re.compile(r'\\d+ [A-Z][a-z]+ ?\\d{4}')\n",
        "  date = dob_pattern.findall(doc)[0]\n",
        "  return date\n",
        "\n",
        "def team_of_the_player(doc):\n",
        "  # your code goes here\n",
        "  # Looks for capitalized words follwed by national team/club or capitalized words following for/club, match with AC Milan, Arsenal and pick up on list of club names (capitalized list sepatrated by commas)\n",
        "  team_pattern = re.compile(r'[A-Z][a-z]+ national team|for [A-Z][A-Za-z]+ [A-Z][A-z]+|club [A-Z][A-z]+ [A-Z][a-z]+|club [A-Z][a-z][^\\s\\\\]+|, [A-Z][A-z]+ [A-Z][A-z-]+ ?[A-Z]*[a-z]+|A.C. [A-Z][a-z]+')\n",
        "  teams1 = team_pattern.findall(doc)\n",
        "  teams= []\n",
        "  for i in range(len(teams1)):\n",
        "    # remove extra words club/for and do not include Cristiano Ronaldo specific to this text.\n",
        "    if \"FA\" and \"Cristiano\" not in teams1[i]:\n",
        "      teams.append(teams1[i].replace('for ', '').replace(',','').replace('club ',''))\n",
        "  teams = list(set(teams))\n",
        "  return teams\n",
        "\n",
        "def position_of_the_player(doc):\n",
        "  # your code goes here\n",
        "  ########## Alternative approaches ############################################\n",
        "  # to match according to patterns seen in doc eg as a forward - not v effective as pick up non-position words\n",
        "  #pos_pattern = re.compile(r'as a [a-z]+.{1}[a-z]*|is a [a-z]+|as an [a-z]+ [a-z]+.*?')\n",
        "  # to match words as found in doc -hard coded not ideal approach\n",
        "  #pos_pattern = re.compile(r'forward|attacking\\smidfielder|striker|right\\swinger|winger|central\\smidfielder|left-back')\n",
        "  ########## My approach #######################################################\n",
        "  # limited words used to desciribe positions so 'hard-coding' lists of possible words in some ways effetcive \n",
        "  # matches position with description eg. central-midfielder\n",
        "  pos_pattern1 = re.compile(r'((left|right|attacking|central|defensive).{1}(midfield[er]*|back|forward|winger|wing))')\n",
        "  # matches position alone eg. striker\n",
        "  pos_pattern2 = re.compile(r'midfield[er]*|forward|striker|winger|goalie|goal keeper')\n",
        "  positions1 = pos_pattern1.findall(doc)\n",
        "  positions2 = pos_pattern2.findall(doc)\n",
        "  positions = []\n",
        "  if positions1 != []:\n",
        "    positions.append(positions1[0][0]) # removes split words ie only takes 'right-wing' not 'right' or 'wing'\n",
        "  positions.extend(positions2)\n",
        "  positions = list(set(list(positions)))  \n",
        "  return positions"
      ],
      "execution_count": 12,
      "outputs": []
    },
    {
      "cell_type": "code",
      "metadata": {
        "colab": {
          "base_uri": "https://localhost:8080/"
        },
        "id": "fD6xzWPZ7y3q",
        "outputId": "4dd9e541-e749-46ca-f489-eee2fe5597dc"
      },
      "source": [
        "names_of_the_players = []\n",
        "countries_of_origin = []\n",
        "date_of_births = []\n",
        "teams_of_the_players = []\n",
        "positions_of_the_players = []\n",
        "\n",
        "for doc in docs:\n",
        "  names_of_the_players.append(name_of_the_player(doc))\n",
        "  countries_of_origin.append(country_of_origin(doc))\n",
        "  date_of_births.append(date_of_birth(doc))\n",
        "  teams_of_the_players.append(team_of_the_player(doc))\n",
        "  positions_of_the_players.append(position_of_the_player(doc))\n",
        "\n",
        "print(\"names_of_the_players:\\n\")\n",
        "for name in names_of_the_players:\n",
        "  print(name)\n",
        "print(\"\\n\\ncountries_of_origin:\\n\")\n",
        "for country in countries_of_origin:\n",
        "  print(country)\n",
        "print(\"\\n\\ndate_of_births:\\n\")\n",
        "for dob in date_of_births:\n",
        "  print(dob)\n",
        "print(\"\\n\\nteams_of_the_players:\\n\")\n",
        "for teams in teams_of_the_players:\n",
        "  print(teams)\n",
        "print(\"\\n\\npositions_of_the_players:\\n\")\n",
        "for pos in positions_of_the_players:\n",
        "  print(pos)"
      ],
      "execution_count": 13,
      "outputs": [
        {
          "output_type": "stream",
          "text": [
            "names_of_the_players:\n",
            "\n",
            "Cristiano Ronaldo dos Santos Aveiro\n",
            "Lionel Andrés \"Leo\" Messi \n",
            "Neymar da Silva Santos Júnior \n",
            "Ronaldo de Assis Moreira \n",
            "Wayne Mark Rooney \n",
            "Zlatan Ibrahimović \n",
            "David Robert Joseph Beckham\n",
            "Mesut Özil \n",
            "Gareth Frank Bale \n",
            "Andrés Iniesta Luján \n",
            "\n",
            "\n",
            "countries_of_origin:\n",
            "\n",
            "Portugal\n",
            "Argentina\n",
            "Brazil\n",
            "Brazil\n",
            "England\n",
            "Sweden\n",
            "England\n",
            "German\n",
            "Wales\n",
            "Spain\n",
            "\n",
            "\n",
            "date_of_births:\n",
            "\n",
            "5 February 1985\n",
            "24 June 1987\n",
            "5 February 1992\n",
            "21 March 1980\n",
            "24 October 1985\n",
            "3 October 1981\n",
            "2 May 1975\n",
            "15 October 1988\n",
            "16 July 1989\n",
            "11 May 1984\n",
            "\n",
            "\n",
            "teams_of_the_players:\n",
            "\n",
            "['Sporting CP', 'Real Madrid', 'Portugal national team']\n",
            "['Argentina national team', 'FC Barcelona']\n",
            "['Brazil national team', 'FC Barcelona']\n",
            "['Brazil national team', 'FC Barcelona', 'Grêmio']\n",
            "['Manchester United', 'England national team']\n",
            "['Swedish national team', 'Manchester United', 'A.C. Milan', 'Sweden national team']\n",
            "['LA Galaxy', ' Paris Saint-Germain', 'Manchester United', 'England national team', ' Real Madrid', ' LA Galaxy', ' Preston North End', 'FIFA World']\n",
            "['Arsenal', 'Schalke', 'German national team']\n",
            "['Real Madrid', 'Wales national team', 'UEFA Euro']\n",
            "['FC Barcelona', 'Spain national team']\n",
            "\n",
            "\n",
            "positions_of_the_players:\n",
            "\n",
            "['forward']\n",
            "['forward']\n",
            "['forward']\n",
            "['forward', 'midfielder', 'attacking midfielder']\n",
            "['midfield', 'forward']\n",
            "['striker']\n",
            "['right winger', 'winger']\n",
            "['midfielder', 'attacking midfielder']\n",
            "['winger', 'left-back']\n",
            "['central midfielder', 'midfielder']\n"
          ],
          "name": "stdout"
        }
      ]
    },
    {
      "cell_type": "markdown",
      "metadata": {
        "id": "K-CNrMM5_WVO"
      },
      "source": [
        "Execute the cell below to verify the `date_of_birth` function for the third player. Expected output `5 February 1992`\n"
      ]
    },
    {
      "cell_type": "code",
      "metadata": {
        "id": "jpeKE1u9_WVP",
        "colab": {
          "base_uri": "https://localhost:8080/",
          "height": 35
        },
        "outputId": "c4e91876-e51b-4d98-dffb-95e1cf0885b8"
      },
      "source": [
        "date_of_birth(docs[2])"
      ],
      "execution_count": 14,
      "outputs": [
        {
          "output_type": "execute_result",
          "data": {
            "application/vnd.google.colaboratory.intrinsic+json": {
              "type": "string"
            },
            "text/plain": [
              "'5 February 1992'"
            ]
          },
          "metadata": {
            "tags": []
          },
          "execution_count": 14
        }
      ]
    },
    {
      "cell_type": "markdown",
      "metadata": {
        "id": "i3VtWxBr_WVZ"
      },
      "source": [
        "## Task 6 (10 Marks)\n",
        "Identify one other relation (besides team and player) and write a function to extract it."
      ]
    },
    {
      "cell_type": "code",
      "metadata": {
        "id": "TR0GZrUB_WVa",
        "colab": {
          "base_uri": "https://localhost:8080/"
        },
        "outputId": "315f7d0e-aa18-4e6f-ed9c-18d177f5fc1e"
      },
      "source": [
        "# your code goes here\n",
        "# I tried this but Gareth Bale doc does not incl. world cup year\n",
        "# Extract a year player played in the World cup\n",
        "#def world_cup_year(doc):\n",
        "  #world_cup_pattern = re.compile(r'\\d+ FIFA World Cup|\\d+ World Cup|FIFA World Cup during the \\d+|FIFA World Cups \\(\\d+|FIFA World Cup tournaments, the \\d+|UEFA Euro 2016')\n",
        "  #world_cup_year = world_cup_pattern.findall(doc)[0].replace('FIFA World Cup tournaments, the ','').replace('FIFA World Cups (','').replace('FIFA World Cup during the ','').replace(' FIFA World Cup','').replace('UEFA Euro 2016', '2018').replace(' World Cup','').replace('the ','') # none for gareth bale doc so Euro 2016 assumed as 2018\n",
        "  #return world_cup_year\n",
        "\n",
        "\n",
        "# Returns tournaments played by player \n",
        "# From initial look tournaments may lead with FIFA, FA, UEFA followed by space and 2-3 (capitalized) words. should incl.s Ballon d'Or excl.s Squad/Team/Player/twice\n",
        "# Other: Capitalized words plus League/Cup/Championship eg FA Cup, La Liga championship (seen w/wo/ Caps)\n",
        "# Logic: I have minimal football knowledge so I could have missed some tournament names but\n",
        "# based on my knowlwedge of tournament names I implemented to look for similar to the following \n",
        "# league/cup/shield/championship/FA/UEFA/FIFA/Ballon d'Or/etc (others may inc premier/european/world) \n",
        "# where in most cases each word should be capitalized and each title is made up of 2-4 words.\n",
        "\n",
        "# Returns tournaments played by player \n",
        "def tournaments_played(doc):\n",
        "  tournaments_pattern = re.compile(r'[A-Z][A-z]* League|[A-Z][A-z]* Cup|[A-Z]* Ballon d\\'Or|[A-Z]* [A-Z][a-z]* [A-Z][a-z]* [Cc][uphampionships]+|[A-Z]*FA [A-Z][a-z]* [A-Z][A-z]*')\n",
        "  tournaments = tournaments_pattern.findall(doc)\n",
        "  for t in tournaments:\n",
        "    if 'Player' in t:\n",
        "      tournaments.remove(t)\n",
        "  tournaments = list(set(tournaments))  \n",
        "  return tournaments\n",
        "  \n",
        "for doc in docs:\n",
        "  # print(world_cup_year(doc)) \n",
        "  print(tournaments_played(doc))\n",
        "\n"
      ],
      "execution_count": 15,
      "outputs": [
        {
          "output_type": "stream",
          "text": [
            "['FIFA Club World Cup', 'Champions League', \" Ballon d'Or\", 'UEFA Champions League', 'FIFA World Cups', \"FIFA Ballon d'Or\", 'UEFA European Championship', 'Premier League', ' Club World Cup', 'UEFA European Championships', 'FA Cup']\n",
            "['World Cup', 'Champions League', \" Ballon d'Or\", 'UEFA Champions League', 'European Cup', 'FIFA World Cup', 'FIFA World Youth Championship']\n",
            "['UEFA Champions League', \"FIFA Ballon d'Or\", ' American Youth Championship', 'FIFA Confederations Cup', ' Campeonato Paulista championships', 'FIFA World Cup']\n",
            "[\" Ballon d'Or\", 'UEFA Champions League', 'FIFA World Cup']\n",
            "['FIFA Club World Cup', 'World Cup', ' Football League Cup', 'UEFA Champions League', \"FIFA Ballon d'Or\", 'Premier League', 'FA Cup', 'FA Community Shield']\n",
            "['UEFA European Championships', 'FIFA World Cups']\n",
            "['Major League', ' La Liga championship', 'UEFA Champions League', 'UEFA European Championship', 'Premier League', 'FIFA World Cup', 'FA Cup']\n",
            "['FIFA World Cup']\n",
            "['FIFA Club World Cup', 'UEFA Champions League', 'Champions League', 'UEFA Super Cup']\n",
            "['FIFA World XI', 'World Cup', \"FIFA Ballon d'Or\"]\n"
          ],
          "name": "stdout"
        }
      ]
    }
  ]
}